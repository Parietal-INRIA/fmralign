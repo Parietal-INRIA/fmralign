{
  "cells": [
    {
      "cell_type": "markdown",
      "metadata": {},
      "source": [
        "\n# Template-based prediction.\n\nIn this tutorial, we show how to improve inter-subject similarity using a template\ncomputed across multiple source subjects. For this purpose, we create a template\nusing Procrustes alignment (hyperalignment) to which we align the target subject,\nusing shared information. We then compare the voxelwise similarity between the\ntarget subject and the template to the similarity between the target subject and\nthe anatomical Euclidean average of the source subjects.\n\nWe mostly rely on Python common packages and on nilearn to handle\nfunctional data in a clean fashion.\n\n\nTo run this example, you must launch IPython via ``ipython\n--matplotlib`` in a terminal, or use ``jupyter-notebook``.\n"
      ]
    },
    {
      "cell_type": "markdown",
      "metadata": {},
      "source": [
        "## Retrieve the data\nIn this example we use the IBC dataset, which includes a large number of\ndifferent contrasts maps for 12 subjects.\nWe download the images for subjects sub-01, sub-02, sub-04, sub-05, sub-06\nand sub-07 (or retrieve them if they were already downloaded).\nimgs is the list of paths to available statistical images for each subjects.\ndf is a dataframe with metadata about each of them.\nmask is a binary image used to extract grey matter regions.\n\n\n"
      ]
    },
    {
      "cell_type": "code",
      "execution_count": null,
      "metadata": {
        "collapsed": false
      },
      "outputs": [],
      "source": [
        "from fmralign.fetch_example_data import fetch_ibc_subjects_contrasts\n\nimgs, df, mask_img = fetch_ibc_subjects_contrasts(\n    [\"sub-01\", \"sub-02\", \"sub-04\", \"sub-05\", \"sub-06\", \"sub-07\"]\n)"
      ]
    },
    {
      "cell_type": "markdown",
      "metadata": {},
      "source": [
        "## Define a masker\nWe define a nilearn masker that will be used to handle relevant data.\n  For more information, visit :\n  'http://nilearn.github.io/manipulating_images/masker_objects.html'\n\n\n"
      ]
    },
    {
      "cell_type": "code",
      "execution_count": null,
      "metadata": {
        "collapsed": false
      },
      "outputs": [],
      "source": [
        "from nilearn.maskers import NiftiMasker\n\nmasker = NiftiMasker(mask_img=mask_img).fit()"
      ]
    },
    {
      "cell_type": "markdown",
      "metadata": {},
      "source": [
        "## Prepare the data\nFor each subject, we will use two series of contrasts acquired during\ntwo independent sessions with a different phase encoding:\nAntero-posterior(AP) or Postero-anterior(PA).\n\n\n"
      ]
    },
    {
      "cell_type": "code",
      "execution_count": null,
      "metadata": {
        "collapsed": false
      },
      "outputs": [],
      "source": [
        "# To infer a template for subjects sub-01 to sub-06 for both AP and PA data,\n# we make a list of 4D niimgs from our list of list of files containing 3D images\n\nfrom nilearn.image import concat_imgs\n\ntemplate_train = []\nfor i in range(5):\n    template_train.append(concat_imgs(imgs[i]))\n\n# sub-07 (that is 5th in the list) will be our left-out subject.\n# We make a single 4D Niimg from our list of 3D filenames.\n\nleft_out_subject = concat_imgs(imgs[5])"
      ]
    },
    {
      "cell_type": "markdown",
      "metadata": {},
      "source": [
        "## Compute a baseline (average of subjects)\nWe create an image with as many contrasts as any subject representing for\neach contrast the average of all train subjects maps.\n\n"
      ]
    },
    {
      "cell_type": "code",
      "execution_count": null,
      "metadata": {
        "collapsed": false
      },
      "outputs": [],
      "source": [
        "import numpy as np\n\nmasked_imgs = [masker.transform(img) for img in template_train]\naverage_img = np.mean(masked_imgs, axis=0)\naverage_subject = masker.inverse_transform(average_img)"
      ]
    },
    {
      "cell_type": "markdown",
      "metadata": {},
      "source": [
        "## Create a template from the training subjects.\nWe define an estimator using the class TemplateAlignment:\n  * We align the whole brain through 'multiple' local alignments.\n  * These alignments are calculated on a parcellation of the brain in 50 pieces,\n    this parcellation creates group of functionnally similar voxels.\n  * The template is created iteratively, aligning all subjects data into a\n    common space, from which the template is inferred and aligning again to this\n    new template space.\n\n\n"
      ]
    },
    {
      "cell_type": "code",
      "execution_count": null,
      "metadata": {
        "collapsed": false
      },
      "outputs": [],
      "source": [
        "from fmralign.template_alignment import TemplateAlignment\n\n# We use Procrustes/scaled orthogonal alignment method\ntemplate_estim = TemplateAlignment(\n    n_pieces=50,\n    alignment_method=\"scaled_orthogonal\",\n    mask=masker,\n)\ntemplate_estim.fit(template_train)\nprocrustes_template = template_estim.template"
      ]
    },
    {
      "cell_type": "markdown",
      "metadata": {},
      "source": [
        "## Predict new data for left-out subject\nWe predict the contrasts of the left-out subject using the template we just\ncreated. We use the transform method of the estimator. This method takes the\nleft-out subject as input, computes a pairwise alignment with the template\nand returns the aligned data.\n\n"
      ]
    },
    {
      "cell_type": "code",
      "execution_count": null,
      "metadata": {
        "collapsed": false
      },
      "outputs": [],
      "source": [
        "predictions_from_template = template_estim.transform(left_out_subject)"
      ]
    },
    {
      "cell_type": "markdown",
      "metadata": {},
      "source": [
        "## Score the baseline and the prediction\nWe use a utility scoring function to measure the voxelwise correlation\nbetween the images. That is, for each voxel, we measure the correlation between\nits profile of activation without and with alignment, to see if template-based\nalignment was able to improve inter-subject similarity.\n\n"
      ]
    },
    {
      "cell_type": "code",
      "execution_count": null,
      "metadata": {
        "collapsed": false
      },
      "outputs": [],
      "source": [
        "from fmralign.metrics import score_voxelwise\n\naverage_score = masker.inverse_transform(\n    score_voxelwise(left_out_subject, average_subject, masker, loss=\"corr\")\n)\ntemplate_score = masker.inverse_transform(\n    score_voxelwise(\n        predictions_from_template, procrustes_template, masker, loss=\"corr\"\n    )\n)"
      ]
    },
    {
      "cell_type": "markdown",
      "metadata": {},
      "source": [
        "## Plotting the measures\nFinally we plot both scores\n\n\n"
      ]
    },
    {
      "cell_type": "code",
      "execution_count": null,
      "metadata": {
        "collapsed": false
      },
      "outputs": [],
      "source": [
        "from nilearn import plotting\n\nbaseline_display = plotting.plot_stat_map(\n    average_score, display_mode=\"z\", vmax=1, cut_coords=[-15, -5]\n)\nbaseline_display.title(\"Left-out subject correlation with group average\")\ndisplay = plotting.plot_stat_map(\n    template_score, display_mode=\"z\", cut_coords=[-15, -5], vmax=1\n)\ndisplay.title(\"Aligned subject correlation with Procrustes template\")"
      ]
    },
    {
      "cell_type": "markdown",
      "metadata": {},
      "source": [
        "We observe that creating a template and aligning a new subject to it yields\nbetter inter-subject similarity than regular euclidean averaging.\n\n"
      ]
    }
  ],
  "metadata": {
    "kernelspec": {
      "display_name": "Python 3",
      "language": "python",
      "name": "python3"
    },
    "language_info": {
      "codemirror_mode": {
        "name": "ipython",
        "version": 3
      },
      "file_extension": ".py",
      "mimetype": "text/x-python",
      "name": "python",
      "nbconvert_exporter": "python",
      "pygments_lexer": "ipython3",
      "version": "3.11.11"
    }
  },
  "nbformat": 4,
  "nbformat_minor": 0
}