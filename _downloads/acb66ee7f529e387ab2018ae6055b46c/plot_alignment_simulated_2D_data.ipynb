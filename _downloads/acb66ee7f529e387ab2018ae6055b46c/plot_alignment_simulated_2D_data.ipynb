{
  "cells": [
    {
      "cell_type": "markdown",
      "metadata": {},
      "source": [
        "\n# Alignment on simulated 2D data.\n\nAs we mentionned several times, we search for a transformation, let's call it\n`R`, between the source subject data `X` and the target data `Y`. `X` and `Y`\nare arrays of dimensions `(n_voxels, n_samples)` where each image is a sample.\nSo we can see each signal as a distribution where each voxel as a point\nin a multidimensional functional space (each dimension is a sample).\n\nWe show below a 2D example, with 2 distributions: `X` in green, `Y` in red.\nBoth have 20 voxels (points) characterized by 2 samples (images). And the\nalignment we search for is the matching of both distibutions, optimally in\nsome sense.\n\nTo run this example, you must launch IPython via ``ipython --matplotlib``\nin a terminal, or use ``jupyter-notebook``.\n    :depth: 1\n"
      ]
    },
    {
      "cell_type": "markdown",
      "metadata": {},
      "source": [
        "## Defining utility functions\nIn this example we will do a lot of plotting so we first define :\n  * _rotate to do a 2D rotation for a point from an origin\n  * _plot_mixing_matrix to plot 2D alignment matrix as pretty tables\n  * tick_params which are a set of plotting parameters\n  * _plot2D_samples_mat to plot 2D alignment matrix as matching between distributions.\n  * _plot_distributions_and_alignment to plot both the distributions and the matchings\nNow you can skip this part.\n\n"
      ]
    },
    {
      "cell_type": "code",
      "execution_count": null,
      "metadata": {
        "collapsed": false
      },
      "outputs": [],
      "source": [
        "import math\n\nimport matplotlib.pyplot as plt\nimport numpy as np\nfrom matplotlib.legend import Legend\nfrom matplotlib.lines import Line2D\n\n\ndef _rotate(origin, point, angle):\n    \"\"\"Rotate a point counterclockwise by a given angle around a given origin.\"\"\"\n    ox, oy = origin\n    px, py = point\n    qx = ox + math.cos(angle) * (px - ox) - math.sin(angle) * (py - oy)\n    qy = oy + math.sin(angle) * (px - ox) + math.cos(angle) * (py - oy)\n    return qx, qy\n\n\ntick_params = {\n    \"axis\": \"both\",\n    \"which\": \"both\",\n    \"bottom\": False,\n    \"top\": False,\n    \"left\": False,\n    \"labelleft\": False,\n    \"labelbottom\": False,\n}\n\n\ndef _plot_mixing_matrix(R, title=None, tick_params=tick_params):\n    plt.figure(figsize=(4, 4))\n    plt.imshow(R, interpolation=\"nearest\")\n    plt.colorbar()\n    plt.tick_params(**tick_params)\n    plt.title(title)\n\n\ndef _plot2D_samples_mat(xs, xt, R, thr=1e-8, **kwargs):\n    \"\"\"Plot matrix R in 2D with lines for coefficients above threshold thr.\n    REPRODUCED FROM POT PACKAGE\n    \"\"\"\n    if (\"color\" not in kwargs) and (\"c\" not in kwargs):\n        kwargs[\"color\"] = \"k\"\n    mx = R.max()\n    for i in range(xs.shape[0]):\n        for j in range(xt.shape[0]):\n            if R[i, j] / mx > thr:\n                plt.plot(\n                    [xs[i, 0], xt[j, 0]],\n                    [xs[i, 1], xt[j, 1]],\n                    alpha=R[i, j] / mx,\n                    **kwargs,\n                )\n\n\ndef _plot_distributions_and_alignment(\n    X, Y, R=None, thr=0.1, title=None, tick_params=tick_params\n):\n    fig, ax = plt.subplots(figsize=(3.5, 3.5))\n    plt.plot(X[:, 0], X[:, 1], \"og\", label=\"Source samples\")\n    plt.plot(Y[:, 0], Y[:, 1], \"or\", label=\"Target samples\")\n    plt.legend()\n    if R is not None:\n        # if R has some negative coeffs, plot them too in red\n        if not (R >= 0).all():\n            _plot2D_samples_mat(X, Y, -R, thr=thr, c=[1, 0.2, 0.2])\n            colors = [\"blue\", \"red\"]\n            lines = [Line2D([0], [0], color=c, linewidth=2) for c in colors]\n            labels = [\"Positive coeffs\", \"Negative coeffs\"]\n            leg = Legend(ax, lines, labels, loc=\"upper left\", fontsize=10)\n            ax.add_artist(leg)\n            plt.legend()\n        # Then plot R positive coeffs above a threshold in blue\n        _plot2D_samples_mat(X, Y, R, thr=thr, c=[0.2, 0.2, 1])\n\n    plt.rcParams.update(\n        {\n            \"font.size\": 12,\n            \"ytick.labelsize\": 14,\n            \"xtick.labelsize\": 14,\n            \"axes.titlesize\": 14,\n            \"axes.labelsize\": 12,\n        }\n    )\n    plt.xlabel(\"Contrast 1\", fontsize=14)\n    plt.ylabel(\"Contrast 2\", fontsize=14)\n    plt.tick_params(**tick_params)\n    plt.title(title, fontsize=16)"
      ]
    },
    {
      "cell_type": "markdown",
      "metadata": {},
      "source": [
        "## Create a sample distribution\nFirst we generate a distribution that possess some geometrical information,\na S shape. Here the dimension of our distributions will `(n_points, 2)`\nsince we want to be able to plot each voxel in a point. In real cases\nhowever we have tens or hundreds of observations that characterize each point.\n\n"
      ]
    },
    {
      "cell_type": "code",
      "execution_count": null,
      "metadata": {
        "collapsed": false
      },
      "outputs": [],
      "source": [
        "n_points = 20\norigin_index = int(n_points / 2 - 1)\n# We will make the S shape from a distorted sinusoid, with a translation and rotation\nx = np.linspace(0, 20, n_points)\ny = x + 3 * np.sin(x / 3)\n# We make our source distribution from this with an additional rotation and translation\nX = np.asarray(\n    [\n        _rotate((x[origin_index], y[origin_index]), (x_, y_), math.radians(10))\n        for x_, y_ in zip(x, y)\n    ]\n)\nX[:, 0] -= 4\nX[:, 1] += 4\n# We make a target distribution Y as well\nY = np.asarray(\n    [\n        _rotate((x[origin_index], y[origin_index]), (x_, y_), math.radians(-10))\n        for x_, y_ in zip(x, y)\n    ]\n)\n# Our to distributions : X in green and Y in red\n_plot_distributions_and_alignment(X, Y, title=\"Example distibutions\")\n\n# We permutate its points to mimic functional variability. So now we have two\n# distributions that seem to have some correspondance but are ill aligned.\nY = np.roll(Y, 6, axis=0)\n# We plot them and observe that their initial matching is wrong\nR_identity = np.eye(n_points, dtype=np.float64)\n_plot_distributions_and_alignment(\n    X, Y, R=R_identity, title=\"Initial Matching\", thr=0.1\n)"
      ]
    },
    {
      "cell_type": "markdown",
      "metadata": {},
      "source": [
        "## Alignment : finding the right transform\nThe source and target distributions we created are not well matched. The\nidea of alignment is to find a transform, let's call it `R`, between the\nsource `X` and the target `Y` that will handle that. Now we will showcase\non our simple 2D example different kind of transformation we can look for.\n\n"
      ]
    },
    {
      "cell_type": "code",
      "execution_count": null,
      "metadata": {
        "collapsed": false
      },
      "outputs": [],
      "source": [
        "from fmralign.alignment_methods import (\n    OptimalTransportAlignment,\n    RidgeAlignment,\n    ScaledOrthogonalAlignment,\n)"
      ]
    },
    {
      "cell_type": "markdown",
      "metadata": {},
      "source": [
        "## Orthogonal alignment\nThe first idea proposed in Haxby, 2011 was to compute an orthogonal mixing\nmatrix `R` and a scaling `sc` such that Frobenius norm: math:\n` | |sc RX - Y | | ^ 2` is minimized.\n\n"
      ]
    },
    {
      "cell_type": "code",
      "execution_count": null,
      "metadata": {
        "collapsed": false
      },
      "outputs": [],
      "source": [
        "scaled_orthogonal_alignment = ScaledOrthogonalAlignment()\nscaled_orthogonal_alignment.fit(X.T, Y.T)\n_plot_distributions_and_alignment(\n    X,\n    Y,\n    R=scaled_orthogonal_alignment.R.T,\n    title=\"Procrustes between distributions\",\n    thr=0.1,\n)\n_plot_mixing_matrix(\n    R=scaled_orthogonal_alignment.R.T, title=\"Orthogonal mixing matrix\"\n)"
      ]
    },
    {
      "cell_type": "markdown",
      "metadata": {},
      "source": [
        "## Ridge alignment\nAnother simple idea to regularize the transform `R` searched for is to\npenalize its L2 norm. This is a ridge regression, which means we search `R`\nsuch that Frobenius  norm $|| XR - Y ||^2 + alpha * ||R||^2$\nis minimized with cross-validation.\n\n"
      ]
    },
    {
      "cell_type": "code",
      "execution_count": null,
      "metadata": {
        "collapsed": false
      },
      "outputs": [],
      "source": [
        "ridge_alignment = RidgeAlignment(alphas=[0.01, 0.1], cv=2).fit(X.T, Y.T)\n\n_plot_distributions_and_alignment(\n    X,\n    Y,\n    R=ridge_alignment.R.coef_,\n    title=\"Ridge between distributions\",\n    thr=0.1,\n)\n_plot_mixing_matrix(R=ridge_alignment.R.coef_, title=\"Ridge coefficients\")"
      ]
    },
    {
      "cell_type": "markdown",
      "metadata": {},
      "source": [
        "## Optimal Transport alignment\nFinally this package comes with a new method that build on the Wasserstein\ndistance which is well-suited for this problem. This is the framework of\nOptimal Transport that search to transport all signal from `X` to `Y`\nwhile minimizing the overall cost of this transport. `R` is here the\noptimal coupling between `X` and `Y` with entropic regularization.\nThis way of finding a transform uses more geometrical information from the\ndistributions.\n\n"
      ]
    },
    {
      "cell_type": "code",
      "execution_count": null,
      "metadata": {
        "collapsed": false
      },
      "outputs": [],
      "source": [
        "ot_alignment = OptimalTransportAlignment(reg=0.1)\not_alignment.fit(X.T, Y.T)\n_plot_distributions_and_alignment(\n    X, Y, R=ot_alignment.R, title=\"Optimal Transport\", thr=0.1\n)\n_plot_mixing_matrix(R=ot_alignment.R, title=\"Optimal Transport coupling\")\n\n# sphinx_gallery_thumbnail_number = 7"
      ]
    }
  ],
  "metadata": {
    "kernelspec": {
      "display_name": "Python 3",
      "language": "python",
      "name": "python3"
    },
    "language_info": {
      "codemirror_mode": {
        "name": "ipython",
        "version": 3
      },
      "file_extension": ".py",
      "mimetype": "text/x-python",
      "name": "python",
      "nbconvert_exporter": "python",
      "pygments_lexer": "ipython3",
      "version": "3.9.20"
    }
  },
  "nbformat": 4,
  "nbformat_minor": 0
}